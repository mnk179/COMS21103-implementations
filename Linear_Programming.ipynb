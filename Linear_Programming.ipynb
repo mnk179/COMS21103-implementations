{
 "cells": [
  {
   "cell_type": "markdown",
   "metadata": {},
   "source": [
    "## Structure of input"
   ]
  },
  {
   "cell_type": "code",
   "execution_count": 61,
   "metadata": {},
   "outputs": [],
   "source": [
    "import numpy as np\n",
    "\n",
    "class LinearProgram(object):\n",
    "    \"\"\"\n",
    "        c: vector of numbers, the coefficients in the objective function, dimension n\n",
    "        A: matrix of numbers, the coefficients in the constraint functions, dimension n * k\n",
    "        b: vector of numbers, constraints, dimension k\n",
    "        x: list of characters, the variables, length n\n",
    "        \n",
    "        internally, vectors and matrices are represented as np.array objects\n",
    "    \"\"\"\n",
    "    def __init__(self, c, A, b, x):\n",
    "        self.c = c\n",
    "        self.A = A\n",
    "        self.b = b\n",
    "        self.x = x\n",
    "        \n",
    "    def getFunctionString(self, d):\n",
    "        functionString = \"\"\n",
    "        \n",
    "        firstSign = d[0] >= 0\n",
    "        \n",
    "        for di, xi in zip(d, self.x):\n",
    "            coefficient = str(abs(di))\n",
    "            \n",
    "            if di < 0:\n",
    "                sign = \"-\"\n",
    "            else:\n",
    "                sign = \"+\"\n",
    "            \n",
    "            functionString += sign + \" \" + coefficient + xi + \" \"\n",
    "            \n",
    "        # Trim unnecesary whitespace\n",
    "        functionString = functionString[:-1]\n",
    "        \n",
    "        # Trim firstSign if it is \"+\"\n",
    "        if firstSign:\n",
    "            functionString = functionString[2:]\n",
    "        \n",
    "        return functionString\n",
    "    \n",
    "    def getConstraintsString(self):\n",
    "        constraintString = \"\"\n",
    "        \n",
    "        for cf, bi in zip(self.A, self.b.T[0]):\n",
    "            constraintString += self.getFunctionString(cf)\n",
    "            constraintString += \" <= \" + str(bi) + \"\\n\"\n",
    "        \n",
    "        for xi in self.x:\n",
    "            constraintString += xi + \", \"\n",
    "        \n",
    "        constraintString = constraintString[:-2] + \" >= \" + str(0)\n",
    "        \n",
    "        return constraintString\n",
    "            \n",
    "    def __str__(self):\n",
    "        linearProgramString = \"A linear program with\\n\"\n",
    "        linearProgramString += \"Objective function:\\n\"\n",
    "        linearProgramString += self.getFunctionString(self.c.T[0]) + \"\\n\"\n",
    "        linearProgramString += \"Constraints:\\n\"\n",
    "        linearProgramString += self.getConstraintsString()\n",
    "        return linearProgramString\n",
    "    \n",
    "    def __repr__(self):\n",
    "        self.__str__"
   ]
  },
  {
   "cell_type": "code",
   "execution_count": 62,
   "metadata": {},
   "outputs": [],
   "source": [
    "# Let's create a LinearProgram\n",
    "c1 = np.array([[5],[10],[4],[8]])\n",
    "A1 = np.array([[-1,-1,0,0],\n",
    "              [0,0,-1,-1],\n",
    "              [1,0,1,0],\n",
    "              [1,0,1,0]])\n",
    "b1 = np.array([[-400],[-600],[700],[800]])\n",
    "x1 = ['x','y','w','z']\n",
    "\n",
    "lp1 = LinearProgram(c1, A1, b1, x1)\n",
    "\n",
    "# We are aiming to minimise c.T @ x\n",
    "# subject to A @ x <= b and x >= 0"
   ]
  },
  {
   "cell_type": "code",
   "execution_count": 63,
   "metadata": {},
   "outputs": [
    {
     "name": "stdout",
     "output_type": "stream",
     "text": [
      "A linear program with\n",
      "Objective function:\n",
      "5x + 10y + 4w + 8z\n",
      "Constraints:\n",
      "- 1x - 1y + 0w + 0z <= -400\n",
      "0x + 0y - 1w - 1z <= -600\n",
      "1x + 0y + 1w + 0z <= 700\n",
      "1x + 0y + 1w + 0z <= 800\n",
      "x, y, w, z >= 0\n"
     ]
    }
   ],
   "source": [
    "print(lp1)"
   ]
  },
  {
   "cell_type": "code",
   "execution_count": null,
   "metadata": {},
   "outputs": [],
   "source": []
  },
  {
   "cell_type": "code",
   "execution_count": null,
   "metadata": {},
   "outputs": [],
   "source": []
  }
 ],
 "metadata": {
  "kernelspec": {
   "display_name": "Python 3",
   "language": "python",
   "name": "python3"
  },
  "language_info": {
   "codemirror_mode": {
    "name": "ipython",
    "version": 3
   },
   "file_extension": ".py",
   "mimetype": "text/x-python",
   "name": "python",
   "nbconvert_exporter": "python",
   "pygments_lexer": "ipython3",
   "version": "3.7.1"
  }
 },
 "nbformat": 4,
 "nbformat_minor": 2
}
