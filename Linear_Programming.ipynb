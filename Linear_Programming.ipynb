{
 "cells": [
  {
   "cell_type": "markdown",
   "metadata": {},
   "source": [
    "## Structure of input"
   ]
  },
  {
   "cell_type": "code",
   "execution_count": 3,
   "metadata": {},
   "outputs": [],
   "source": [
    "import numpy as np\n",
    "\n",
    "class LinearProgram(object):\n",
    "    \"\"\"\n",
    "        c: vector of numbers, the coefficients in the objective function\n",
    "        A: matrix of numbers, the coefficients in the constraint functions\n",
    "        b: vector of numbers, constraints\n",
    "        x: list of characters, the variables\n",
    "        \n",
    "        internally, vectors and matrices are represented as np.array objects\n",
    "    \"\"\"\n",
    "    def __init__(self, c, A, b, x):\n",
    "        self.c = c\n",
    "        self.A = A\n",
    "        self.b = b\n",
    "        self.x = x\n",
    "    def __str__(self):\n",
    "        return \"A linear program with\""
   ]
  },
  {
   "cell_type": "code",
   "execution_count": 5,
   "metadata": {},
   "outputs": [],
   "source": [
    "# Let's create a LinearProgram\n",
    "c1 = np.array([[5],[10],[4],[8]])\n",
    "A1 = np.array([[-1,-1,0,0],\n",
    "              [0,0,-1,-1],\n",
    "              [1,0,1,0],\n",
    "              [1,0,1,0]])\n",
    "b1 = np.array([[-400],[-600],[700],[800]])\n",
    "x1 = ['x','y','w','z']\n",
    "\n",
    "lp1 = LinearProgram(c1, A1, b1, x1)\n",
    "\n",
    "# We are aiming to minimise c.T @ x\n",
    "# subject to A @ x <= b and x >= 0"
   ]
  }
 ],
 "metadata": {
  "kernelspec": {
   "display_name": "Python 3",
   "language": "python",
   "name": "python3"
  },
  "language_info": {
   "codemirror_mode": {
    "name": "ipython",
    "version": 3
   },
   "file_extension": ".py",
   "mimetype": "text/x-python",
   "name": "python",
   "nbconvert_exporter": "python",
   "pygments_lexer": "ipython3",
   "version": "3.7.1"
  }
 },
 "nbformat": 4,
 "nbformat_minor": 2
}
